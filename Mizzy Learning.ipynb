{
 "cells": [
  {
   "cell_type": "code",
   "execution_count": 21,
   "id": "d4e9727e",
   "metadata": {},
   "outputs": [
    {
     "name": "stdout",
     "output_type": "stream",
     "text": [
      "[0, 1, 2, 3, 4]\n"
     ]
    }
   ],
   "source": [
    "#SELECTING RANGES OF ROWS \n",
    "\n",
    "\n",
    "#SLICE WITH .iloc\n",
    "\n",
    "my_list = [0, 1, 2, 3, 4]\n",
    "print(my_list[0:5])\n",
    "\n",
    "#This is used to select a range of numbers"
   ]
  },
  {
   "cell_type": "code",
   "execution_count": 22,
   "id": "fa2a90bc",
   "metadata": {},
   "outputs": [
    {
     "name": "stdout",
     "output_type": "stream",
     "text": [
      "     id                          model  year transmission\n",
      "0  1288  amg e53 4matic+ (convertible)  2022         auto\n",
      "1   689                  avalanche ffv  2010         auto\n",
      "2   950                         impala  2010         auto\n",
      "3   250                   yukon xl ffv  2004         auto\n"
     ]
    }
   ],
   "source": [
    "import pandas as pd\n",
    "\n",
    "\n",
    "\n",
    "vehicles = {\n",
    "    \"id\": [1288, 689, 950, 250],\n",
    "    \"model\": [\"amg e53 4matic+ (convertible)\", \"avalanche ffv\", \"impala\", \"yukon xl ffv\"],\n",
    "    \"year\" : [2022, 2010, 2010, 2004],\n",
    "    \"transmission\" : [\"auto\", \"auto\", \"auto\", \"auto\"],\n",
    "\n",
    "}\n",
    "\n",
    "vehicles = pd.DataFrame(vehicles)\n",
    "\n",
    "print(vehicles)\n",
    "\n"
   ]
  },
  {
   "cell_type": "code",
   "execution_count": 23,
   "id": "bc817fa5",
   "metadata": {},
   "outputs": [
    {
     "data": {
      "text/html": [
       "<div>\n",
       "<style scoped>\n",
       "    .dataframe tbody tr th:only-of-type {\n",
       "        vertical-align: middle;\n",
       "    }\n",
       "\n",
       "    .dataframe tbody tr th {\n",
       "        vertical-align: top;\n",
       "    }\n",
       "\n",
       "    .dataframe thead th {\n",
       "        text-align: right;\n",
       "    }\n",
       "</style>\n",
       "<table border=\"1\" class=\"dataframe\">\n",
       "  <thead>\n",
       "    <tr style=\"text-align: right;\">\n",
       "      <th></th>\n",
       "      <th>model</th>\n",
       "      <th>year</th>\n",
       "      <th>transmission</th>\n",
       "    </tr>\n",
       "  </thead>\n",
       "  <tbody>\n",
       "    <tr>\n",
       "      <th>0</th>\n",
       "      <td>amg e53 4matic+ (convertible)</td>\n",
       "      <td>2022</td>\n",
       "      <td>auto</td>\n",
       "    </tr>\n",
       "    <tr>\n",
       "      <th>1</th>\n",
       "      <td>avalanche ffv</td>\n",
       "      <td>2010</td>\n",
       "      <td>auto</td>\n",
       "    </tr>\n",
       "    <tr>\n",
       "      <th>2</th>\n",
       "      <td>impala</td>\n",
       "      <td>2010</td>\n",
       "      <td>auto</td>\n",
       "    </tr>\n",
       "  </tbody>\n",
       "</table>\n",
       "</div>"
      ],
      "text/plain": [
       "                           model  year transmission\n",
       "0  amg e53 4matic+ (convertible)  2022         auto\n",
       "1                  avalanche ffv  2010         auto\n",
       "2                         impala  2010         auto"
      ]
     },
     "execution_count": 23,
     "metadata": {},
     "output_type": "execute_result"
    }
   ],
   "source": [
    "\n",
    "#Using the dataframe \"vehicles\" and iloc to pick a part in the main dat set .....selecting the first three rows and the model ,year and transmission columns \n",
    "\n",
    "#It is [0:3] because we are selecting the first 3 rows ....and the 3 is after the index 2 (x:y+1 where x and y are the original indexes)\n",
    "\n",
    "vehicles.iloc[0:3,1:4]"
   ]
  },
  {
   "cell_type": "code",
   "execution_count": 24,
   "id": "d5713b35",
   "metadata": {},
   "outputs": [
    {
     "data": {
      "text/html": [
       "<div>\n",
       "<style scoped>\n",
       "    .dataframe tbody tr th:only-of-type {\n",
       "        vertical-align: middle;\n",
       "    }\n",
       "\n",
       "    .dataframe tbody tr th {\n",
       "        vertical-align: top;\n",
       "    }\n",
       "\n",
       "    .dataframe thead th {\n",
       "        text-align: right;\n",
       "    }\n",
       "</style>\n",
       "<table border=\"1\" class=\"dataframe\">\n",
       "  <thead>\n",
       "    <tr style=\"text-align: right;\">\n",
       "      <th></th>\n",
       "      <th>model</th>\n",
       "      <th>year</th>\n",
       "      <th>transmission</th>\n",
       "    </tr>\n",
       "  </thead>\n",
       "  <tbody>\n",
       "    <tr>\n",
       "      <th>0</th>\n",
       "      <td>amg e53 4matic+ (convertible)</td>\n",
       "      <td>2022</td>\n",
       "      <td>auto</td>\n",
       "    </tr>\n",
       "    <tr>\n",
       "      <th>1</th>\n",
       "      <td>avalanche ffv</td>\n",
       "      <td>2010</td>\n",
       "      <td>auto</td>\n",
       "    </tr>\n",
       "    <tr>\n",
       "      <th>2</th>\n",
       "      <td>impala</td>\n",
       "      <td>2010</td>\n",
       "      <td>auto</td>\n",
       "    </tr>\n",
       "  </tbody>\n",
       "</table>\n",
       "</div>"
      ],
      "text/plain": [
       "                           model  year transmission\n",
       "0  amg e53 4matic+ (convertible)  2022         auto\n",
       "1                  avalanche ffv  2010         auto\n",
       "2                         impala  2010         auto"
      ]
     },
     "execution_count": 24,
     "metadata": {},
     "output_type": "execute_result"
    }
   ],
   "source": [
    "#SLICES WITH .loc\n",
    "\n",
    "#Using the same question... first 3 rows and model , year and transmission \n",
    "# .loc uses exactly the index for the rows (x:y) and the names of the columns for the columns \n",
    "\n",
    "vehicles.loc[0:2,\"model\":\"transmission\"] \n"
   ]
  },
  {
   "cell_type": "code",
   "execution_count": 25,
   "id": "8cc832f6",
   "metadata": {},
   "outputs": [
    {
     "data": {
      "text/html": [
       "<div>\n",
       "<style scoped>\n",
       "    .dataframe tbody tr th:only-of-type {\n",
       "        vertical-align: middle;\n",
       "    }\n",
       "\n",
       "    .dataframe tbody tr th {\n",
       "        vertical-align: top;\n",
       "    }\n",
       "\n",
       "    .dataframe thead th {\n",
       "        text-align: right;\n",
       "    }\n",
       "</style>\n",
       "<table border=\"1\" class=\"dataframe\">\n",
       "  <thead>\n",
       "    <tr style=\"text-align: right;\">\n",
       "      <th></th>\n",
       "      <th>id</th>\n",
       "      <th>model</th>\n",
       "      <th>year</th>\n",
       "      <th>transmission</th>\n",
       "    </tr>\n",
       "  </thead>\n",
       "  <tbody>\n",
       "    <tr>\n",
       "      <th>0</th>\n",
       "      <td>1288</td>\n",
       "      <td>amg e53 4matic+ (convertible)</td>\n",
       "      <td>2022</td>\n",
       "      <td>auto</td>\n",
       "    </tr>\n",
       "    <tr>\n",
       "      <th>1</th>\n",
       "      <td>689</td>\n",
       "      <td>avalanche ffv</td>\n",
       "      <td>2010</td>\n",
       "      <td>auto</td>\n",
       "    </tr>\n",
       "    <tr>\n",
       "      <th>2</th>\n",
       "      <td>950</td>\n",
       "      <td>impala</td>\n",
       "      <td>2010</td>\n",
       "      <td>auto</td>\n",
       "    </tr>\n",
       "  </tbody>\n",
       "</table>\n",
       "</div>"
      ],
      "text/plain": [
       "     id                          model  year transmission\n",
       "0  1288  amg e53 4matic+ (convertible)  2022         auto\n",
       "1   689                  avalanche ffv  2010         auto\n",
       "2   950                         impala  2010         auto"
      ]
     },
     "execution_count": 25,
     "metadata": {},
     "output_type": "execute_result"
    }
   ],
   "source": [
    "#OPEN ENDED SLICES\n",
    "# If you don't specify the starting point of a slice it would automatically start from the beginning same and end point stopping at the ending \n",
    "#if you don't specify any ...it would automatically include all rows and columns from the begining to the end \n",
    "\n",
    "\n",
    "vehicles.iloc[:3,:]\n"
   ]
  },
  {
   "cell_type": "code",
   "execution_count": 26,
   "id": "e5504a04",
   "metadata": {},
   "outputs": [
    {
     "name": "stdout",
     "output_type": "stream",
     "text": [
      "True\n"
     ]
    }
   ],
   "source": [
    "#BOOLEAN MASK \n",
    "#basically using comparison operators on varibales (numerical or non-numerical data)\n",
    "# Comparison operators are ...>=greater than , <=less than , == equality(equals to) , != = not equals to etc.\n",
    "\n",
    "#Example \n",
    "\n",
    "greaterthan = 3>2\n",
    "\n",
    "print(greaterthan)\n"
   ]
  },
  {
   "cell_type": "code",
   "execution_count": 27,
   "id": "8fc9bfe3",
   "metadata": {},
   "outputs": [
    {
     "name": "stdout",
     "output_type": "stream",
     "text": [
      "0    False\n",
      "1    False\n",
      "2    False\n",
      "3     True\n",
      "Name: year, dtype: bool\n"
     ]
    }
   ],
   "source": [
    "#It can be used on dataframes to find out some specific info \n",
    "\n",
    "#Example using vehicles dataframe\n",
    "\n",
    "finding_about_2004 = vehicles['year'] == 2004\n",
    "print(finding_about_2004)\n",
    "\n",
    "#it shows that 2004 is assigned to atleast one "
   ]
  },
  {
   "cell_type": "code",
   "execution_count": 28,
   "id": "a20821dd",
   "metadata": {},
   "outputs": [
    {
     "name": "stdout",
     "output_type": "stream",
     "text": [
      "    id          model  year transmission\n",
      "1  689  avalanche ffv  2010         auto\n",
      "2  950         impala  2010         auto\n"
     ]
    }
   ],
   "source": [
    "#Filtering Rows with Booleans\n",
    "\n",
    "# just making it easier to select rows with a specific need \n",
    "#Example\n",
    "\n",
    "#Selecting rows with 2010\n",
    "\n",
    "is_2010 = vehicles['year'] == 2010\n",
    "\n",
    "print(vehicles[is_2010])\n",
    "\n",
    "#It brought out rows with 2010 in the entire dataframe vehicles"
   ]
  },
  {
   "cell_type": "code",
   "execution_count": 29,
   "id": "3db06727",
   "metadata": {},
   "outputs": [
    {
     "name": "stdout",
     "output_type": "stream",
     "text": [
      "    id          model  year transmission\n",
      "1  689  avalanche ffv  2010         auto\n",
      "2  950         impala  2010         auto\n"
     ]
    }
   ],
   "source": [
    "# Another method (more direct)\n",
    "print(vehicles[vehicles['year'] == 2010])"
   ]
  },
  {
   "cell_type": "code",
   "execution_count": 30,
   "id": "035cc575",
   "metadata": {},
   "outputs": [
    {
     "name": "stdout",
     "output_type": "stream",
     "text": [
      "     id                          model  year transmission\n",
      "0  1288  amg e53 4matic+ (convertible)  2022         auto\n",
      "1   689                  avalanche ffv  2010         auto\n",
      "2   950                         impala  2010         auto\n",
      "3   250                   yukon xl ffv  2004         auto\n"
     ]
    }
   ],
   "source": [
    "#Another example\n",
    "print(vehicles[vehicles['transmission'] == 'auto'])"
   ]
  },
  {
   "cell_type": "code",
   "execution_count": 31,
   "id": "3dfa7363",
   "metadata": {},
   "outputs": [
    {
     "name": "stdout",
     "output_type": "stream",
     "text": [
      "True\n"
     ]
    }
   ],
   "source": [
    "#Combining Boolean with AND\n",
    "#AND is true when both conditions are true and if one is false all is false \n",
    "#Example\n",
    "\n",
    "prove = (2011>2010) and ('electric'== 'electric')\n",
    "\n",
    "print(prove)\n",
    "\n"
   ]
  },
  {
   "cell_type": "code",
   "execution_count": 32,
   "id": "1401e3c6",
   "metadata": {},
   "outputs": [
    {
     "name": "stdout",
     "output_type": "stream",
     "text": [
      "False\n"
     ]
    }
   ],
   "source": [
    "#One is false all is false \n",
    "\n",
    "prove2 = (2011>2010) and ('electric' == 'gloves')\n",
    "\n",
    "print(prove2)"
   ]
  },
  {
   "cell_type": "code",
   "execution_count": 33,
   "id": "c169ac35",
   "metadata": {},
   "outputs": [
    {
     "name": "stdout",
     "output_type": "stream",
     "text": [
      "   year             fuel\n",
      "0  2009         electric\n",
      "1  2010  hybrid electric\n",
      "2  2011         electric\n",
      "3  2012          propane\n"
     ]
    }
   ],
   "source": [
    "#Creating a new dataframe\n",
    "\n",
    "import pandas as pd\n",
    "\n",
    "\n",
    "\n",
    "boom = {\n",
    "    \"year\" : [2009, 2010, 2011, 2012],\n",
    "    \"fuel\" : [\"electric\", \"hybrid electric\", \"electric\", \"propane\"],\n",
    "\n",
    "}\n",
    "\n",
    "boom = pd.DataFrame(boom)\n",
    "\n",
    "print(boom)"
   ]
  },
  {
   "cell_type": "code",
   "execution_count": 34,
   "id": "28ed2994",
   "metadata": {},
   "outputs": [
    {
     "name": "stdout",
     "output_type": "stream",
     "text": [
      "   year      fuel\n",
      "2  2011  electric\n"
     ]
    }
   ],
   "source": [
    "is_electric = boom['fuel'] == 'electric'\n",
    "#All rows under fuel that has electric in it \n",
    "\n",
    "year_gt2010 = boom['year'] > 2010\n",
    "#rows with years above 2010\n",
    "\n",
    "combined_using_and = is_electric & year_gt2010\n",
    "\n",
    "print(boom[combined_using_and])"
   ]
  },
  {
   "cell_type": "code",
   "execution_count": 35,
   "id": "1d3b3521",
   "metadata": {},
   "outputs": [
    {
     "name": "stdout",
     "output_type": "stream",
     "text": [
      "True\n",
      "False\n"
     ]
    }
   ],
   "source": [
    "#BOOLEAN OPERATIONS USING \"OR\"\n",
    "#if one is True all is True \n",
    "#If all is False all is False\n",
    "#Atleast one must be True to get True\n",
    "#Symbol for OR is | \n",
    "\n",
    "prove3= ('electric' == 'electric') or ('biodiesel' == 'hybrid electric')\n",
    "print(prove3)\n",
    "\n",
    "prove4 = ('electric' == 'electricity') or ('biodiesel' == 'hybrid electric')\n",
    "print(prove4)"
   ]
  },
  {
   "cell_type": "code",
   "execution_count": 43,
   "id": "2863ec06",
   "metadata": {},
   "outputs": [
    {
     "name": "stdout",
     "output_type": "stream",
     "text": [
      "0     True\n",
      "1     True\n",
      "2     True\n",
      "3    False\n",
      "Name: fuel, dtype: bool\n",
      "0    True\n",
      "1    True\n",
      "2    True\n",
      "3    True\n",
      "Name: fuel, dtype: bool\n"
     ]
    }
   ],
   "source": [
    "the_electrics= boom['fuel'] == 'electric'\n",
    "the_hybrids= boom['fuel'] == 'hybrid electric'\n",
    "combined2 = the_electrics | the_hybrids\n",
    "#Looking for the one that doesn't have electric and hybrid electric\n",
    "\n",
    "#you can use it on more than 2 \n",
    "the_electrics= boom['fuel'] == 'electric'\n",
    "the_hybrids= boom['fuel'] == 'hybrid electric'\n",
    "the_propanes= boom['fuel'] == 'propane'\n",
    "combined3 = the_electrics | the_hybrids | the_propanes\n",
    "\n",
    "\n",
    "print(combined2)\n",
    "\n",
    "print(combined3)"
   ]
  }
 ],
 "metadata": {
  "kernelspec": {
   "display_name": "Python 3",
   "language": "python",
   "name": "python3"
  },
  "language_info": {
   "codemirror_mode": {
    "name": "ipython",
    "version": 3
   },
   "file_extension": ".py",
   "mimetype": "text/x-python",
   "name": "python",
   "nbconvert_exporter": "python",
   "pygments_lexer": "ipython3",
   "version": "3.13.7"
  }
 },
 "nbformat": 4,
 "nbformat_minor": 5
}
