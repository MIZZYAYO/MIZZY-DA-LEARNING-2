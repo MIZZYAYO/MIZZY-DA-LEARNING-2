{
 "cells": [
  {
   "cell_type": "code",
   "execution_count": 347,
   "id": "d4e9727e",
   "metadata": {},
   "outputs": [
    {
     "name": "stdout",
     "output_type": "stream",
     "text": [
      "[0, 1, 2, 3, 4]\n"
     ]
    }
   ],
   "source": [
    "#SELECTING RANGES OF ROWS \n",
    "\n",
    "\n",
    "#SLICE WITH .iloc\n",
    "\n",
    "my_list = [0, 1, 2, 3, 4]\n",
    "print(my_list[0:5])\n",
    "\n",
    "#This is used to select a range of numbers"
   ]
  },
  {
   "cell_type": "code",
   "execution_count": 348,
   "id": "fa2a90bc",
   "metadata": {},
   "outputs": [
    {
     "name": "stdout",
     "output_type": "stream",
     "text": [
      "     id                          model  year transmission\n",
      "0  1288  amg e53 4matic+ (convertible)  2022         auto\n",
      "1   689                  avalanche ffv  2010         auto\n",
      "2   950                         impala  2010         auto\n",
      "3   250                   yukon xl ffv  2004         auto\n"
     ]
    }
   ],
   "source": [
    "import pandas as pd\n",
    "\n",
    "\n",
    "\n",
    "vehicles = {\n",
    "    \"id\": [1288, 689, 950, 250],\n",
    "    \"model\": [\"amg e53 4matic+ (convertible)\", \"avalanche ffv\", \"impala\", \"yukon xl ffv\"],\n",
    "    \"year\" : [2022, 2010, 2010, 2004],\n",
    "    \"transmission\" : [\"auto\", \"auto\", \"auto\", \"auto\"],\n",
    "\n",
    "}\n",
    "\n",
    "vehicles = pd.DataFrame(vehicles)\n",
    "\n",
    "print(vehicles)\n",
    "\n"
   ]
  },
  {
   "cell_type": "code",
   "execution_count": 349,
   "id": "bc817fa5",
   "metadata": {},
   "outputs": [
    {
     "data": {
      "text/html": [
       "<div>\n",
       "<style scoped>\n",
       "    .dataframe tbody tr th:only-of-type {\n",
       "        vertical-align: middle;\n",
       "    }\n",
       "\n",
       "    .dataframe tbody tr th {\n",
       "        vertical-align: top;\n",
       "    }\n",
       "\n",
       "    .dataframe thead th {\n",
       "        text-align: right;\n",
       "    }\n",
       "</style>\n",
       "<table border=\"1\" class=\"dataframe\">\n",
       "  <thead>\n",
       "    <tr style=\"text-align: right;\">\n",
       "      <th></th>\n",
       "      <th>model</th>\n",
       "      <th>year</th>\n",
       "      <th>transmission</th>\n",
       "    </tr>\n",
       "  </thead>\n",
       "  <tbody>\n",
       "    <tr>\n",
       "      <th>0</th>\n",
       "      <td>amg e53 4matic+ (convertible)</td>\n",
       "      <td>2022</td>\n",
       "      <td>auto</td>\n",
       "    </tr>\n",
       "    <tr>\n",
       "      <th>1</th>\n",
       "      <td>avalanche ffv</td>\n",
       "      <td>2010</td>\n",
       "      <td>auto</td>\n",
       "    </tr>\n",
       "    <tr>\n",
       "      <th>2</th>\n",
       "      <td>impala</td>\n",
       "      <td>2010</td>\n",
       "      <td>auto</td>\n",
       "    </tr>\n",
       "  </tbody>\n",
       "</table>\n",
       "</div>"
      ],
      "text/plain": [
       "                           model  year transmission\n",
       "0  amg e53 4matic+ (convertible)  2022         auto\n",
       "1                  avalanche ffv  2010         auto\n",
       "2                         impala  2010         auto"
      ]
     },
     "execution_count": 349,
     "metadata": {},
     "output_type": "execute_result"
    }
   ],
   "source": [
    "\n",
    "#Using the dataframe \"vehicles\" and iloc to pick a part in the main dat set .....selecting the first three rows and the model ,year and transmission columns \n",
    "\n",
    "#It is [0:3] because we are selecting the first 3 rows ....and the 3 is after the index 2 (x:y+1 where x and y are the original indexes)\n",
    "\n",
    "vehicles.iloc[0:3,1:4]"
   ]
  },
  {
   "cell_type": "code",
   "execution_count": 350,
   "id": "d5713b35",
   "metadata": {},
   "outputs": [
    {
     "data": {
      "text/html": [
       "<div>\n",
       "<style scoped>\n",
       "    .dataframe tbody tr th:only-of-type {\n",
       "        vertical-align: middle;\n",
       "    }\n",
       "\n",
       "    .dataframe tbody tr th {\n",
       "        vertical-align: top;\n",
       "    }\n",
       "\n",
       "    .dataframe thead th {\n",
       "        text-align: right;\n",
       "    }\n",
       "</style>\n",
       "<table border=\"1\" class=\"dataframe\">\n",
       "  <thead>\n",
       "    <tr style=\"text-align: right;\">\n",
       "      <th></th>\n",
       "      <th>model</th>\n",
       "      <th>year</th>\n",
       "      <th>transmission</th>\n",
       "    </tr>\n",
       "  </thead>\n",
       "  <tbody>\n",
       "    <tr>\n",
       "      <th>0</th>\n",
       "      <td>amg e53 4matic+ (convertible)</td>\n",
       "      <td>2022</td>\n",
       "      <td>auto</td>\n",
       "    </tr>\n",
       "    <tr>\n",
       "      <th>1</th>\n",
       "      <td>avalanche ffv</td>\n",
       "      <td>2010</td>\n",
       "      <td>auto</td>\n",
       "    </tr>\n",
       "    <tr>\n",
       "      <th>2</th>\n",
       "      <td>impala</td>\n",
       "      <td>2010</td>\n",
       "      <td>auto</td>\n",
       "    </tr>\n",
       "  </tbody>\n",
       "</table>\n",
       "</div>"
      ],
      "text/plain": [
       "                           model  year transmission\n",
       "0  amg e53 4matic+ (convertible)  2022         auto\n",
       "1                  avalanche ffv  2010         auto\n",
       "2                         impala  2010         auto"
      ]
     },
     "execution_count": 350,
     "metadata": {},
     "output_type": "execute_result"
    }
   ],
   "source": [
    "#SLICES WITH .loc\n",
    "\n",
    "#Using the same question... first 3 rows and model , year and transmission \n",
    "# .loc uses exactly the index for the rows (x:y) and the names of the columns for the columns \n",
    "\n",
    "vehicles.loc[0:2,\"model\":\"transmission\"] \n"
   ]
  },
  {
   "cell_type": "code",
   "execution_count": 351,
   "id": "8cc832f6",
   "metadata": {},
   "outputs": [
    {
     "data": {
      "text/html": [
       "<div>\n",
       "<style scoped>\n",
       "    .dataframe tbody tr th:only-of-type {\n",
       "        vertical-align: middle;\n",
       "    }\n",
       "\n",
       "    .dataframe tbody tr th {\n",
       "        vertical-align: top;\n",
       "    }\n",
       "\n",
       "    .dataframe thead th {\n",
       "        text-align: right;\n",
       "    }\n",
       "</style>\n",
       "<table border=\"1\" class=\"dataframe\">\n",
       "  <thead>\n",
       "    <tr style=\"text-align: right;\">\n",
       "      <th></th>\n",
       "      <th>id</th>\n",
       "      <th>model</th>\n",
       "      <th>year</th>\n",
       "      <th>transmission</th>\n",
       "    </tr>\n",
       "  </thead>\n",
       "  <tbody>\n",
       "    <tr>\n",
       "      <th>0</th>\n",
       "      <td>1288</td>\n",
       "      <td>amg e53 4matic+ (convertible)</td>\n",
       "      <td>2022</td>\n",
       "      <td>auto</td>\n",
       "    </tr>\n",
       "    <tr>\n",
       "      <th>1</th>\n",
       "      <td>689</td>\n",
       "      <td>avalanche ffv</td>\n",
       "      <td>2010</td>\n",
       "      <td>auto</td>\n",
       "    </tr>\n",
       "    <tr>\n",
       "      <th>2</th>\n",
       "      <td>950</td>\n",
       "      <td>impala</td>\n",
       "      <td>2010</td>\n",
       "      <td>auto</td>\n",
       "    </tr>\n",
       "  </tbody>\n",
       "</table>\n",
       "</div>"
      ],
      "text/plain": [
       "     id                          model  year transmission\n",
       "0  1288  amg e53 4matic+ (convertible)  2022         auto\n",
       "1   689                  avalanche ffv  2010         auto\n",
       "2   950                         impala  2010         auto"
      ]
     },
     "execution_count": 351,
     "metadata": {},
     "output_type": "execute_result"
    }
   ],
   "source": [
    "#OPEN ENDED SLICES\n",
    "# If you don't specify the starting point of a slice it would automatically start from the beginning same and end point stopping at the ending \n",
    "#if you don't specify any ...it would automatically include all rows and columns from the begining to the end \n",
    "\n",
    "\n",
    "vehicles.iloc[:3,:]\n"
   ]
  },
  {
   "cell_type": "code",
   "execution_count": 352,
   "id": "e5504a04",
   "metadata": {},
   "outputs": [
    {
     "name": "stdout",
     "output_type": "stream",
     "text": [
      "True\n"
     ]
    }
   ],
   "source": [
    "#BOOLEAN MASK \n",
    "#basically using comparison operators on varibales (numerical or non-numerical data)\n",
    "# Comparison operators are ...>=greater than , <=less than , == equality(equals to) , != = not equals to etc.\n",
    "\n",
    "#Example \n",
    "\n",
    "greaterthan = 3>2\n",
    "\n",
    "print(greaterthan)\n"
   ]
  },
  {
   "cell_type": "code",
   "execution_count": 353,
   "id": "8fc9bfe3",
   "metadata": {},
   "outputs": [
    {
     "name": "stdout",
     "output_type": "stream",
     "text": [
      "0    False\n",
      "1    False\n",
      "2    False\n",
      "3     True\n",
      "Name: year, dtype: bool\n"
     ]
    }
   ],
   "source": [
    "#It can be used on dataframes to find out some specific info \n",
    "\n",
    "#Example using vehicles dataframe\n",
    "\n",
    "finding_about_2004 = vehicles['year'] == 2004\n",
    "print(finding_about_2004)\n",
    "\n",
    "#it shows that 2004 is assigned to atleast one "
   ]
  },
  {
   "cell_type": "code",
   "execution_count": 354,
   "id": "a20821dd",
   "metadata": {},
   "outputs": [
    {
     "name": "stdout",
     "output_type": "stream",
     "text": [
      "    id          model  year transmission\n",
      "1  689  avalanche ffv  2010         auto\n",
      "2  950         impala  2010         auto\n"
     ]
    }
   ],
   "source": [
    "#Filtering Rows with Booleans\n",
    "\n",
    "# just making it easier to select rows with a specific need \n",
    "#Example\n",
    "\n",
    "#Selecting rows with 2010\n",
    "\n",
    "is_2010 = vehicles['year'] == 2010\n",
    "\n",
    "print(vehicles[is_2010])\n",
    "\n",
    "#It brought out rows with 2010 in the entire dataframe vehicles"
   ]
  },
  {
   "cell_type": "code",
   "execution_count": 355,
   "id": "3db06727",
   "metadata": {},
   "outputs": [
    {
     "name": "stdout",
     "output_type": "stream",
     "text": [
      "    id          model  year transmission\n",
      "1  689  avalanche ffv  2010         auto\n",
      "2  950         impala  2010         auto\n"
     ]
    }
   ],
   "source": [
    "# Another method (more direct)\n",
    "print(vehicles[vehicles['year'] == 2010])"
   ]
  },
  {
   "cell_type": "code",
   "execution_count": 356,
   "id": "035cc575",
   "metadata": {},
   "outputs": [
    {
     "name": "stdout",
     "output_type": "stream",
     "text": [
      "     id                          model  year transmission\n",
      "0  1288  amg e53 4matic+ (convertible)  2022         auto\n",
      "1   689                  avalanche ffv  2010         auto\n",
      "2   950                         impala  2010         auto\n",
      "3   250                   yukon xl ffv  2004         auto\n"
     ]
    }
   ],
   "source": [
    "#Another example\n",
    "print(vehicles[vehicles['transmission'] == 'auto'])"
   ]
  },
  {
   "cell_type": "code",
   "execution_count": 357,
   "id": "3dfa7363",
   "metadata": {},
   "outputs": [
    {
     "name": "stdout",
     "output_type": "stream",
     "text": [
      "True\n"
     ]
    }
   ],
   "source": [
    "#Combining Boolean with AND\n",
    "#AND is true when both conditions are true and if one is false all is false \n",
    "#Example\n",
    "\n",
    "prove = (2011>2010) and ('electric'== 'electric')\n",
    "\n",
    "print(prove)\n",
    "\n"
   ]
  },
  {
   "cell_type": "code",
   "execution_count": 358,
   "id": "1401e3c6",
   "metadata": {},
   "outputs": [
    {
     "name": "stdout",
     "output_type": "stream",
     "text": [
      "False\n"
     ]
    }
   ],
   "source": [
    "#One is false all is false \n",
    "\n",
    "prove2 = (2011>2010) and ('electric' == 'gloves')\n",
    "\n",
    "print(prove2)"
   ]
  },
  {
   "cell_type": "code",
   "execution_count": 359,
   "id": "c169ac35",
   "metadata": {},
   "outputs": [
    {
     "name": "stdout",
     "output_type": "stream",
     "text": [
      "   year             fuel\n",
      "0  2009         electric\n",
      "1  2010  hybrid electric\n",
      "2  2011         electric\n",
      "3  2012          propane\n"
     ]
    }
   ],
   "source": [
    "#Creating a new dataframe\n",
    "\n",
    "import pandas as pd\n",
    "\n",
    "\n",
    "\n",
    "boom = {\n",
    "    \"year\" : [2009, 2010, 2011, 2012],\n",
    "    \"fuel\" : [\"electric\", \"hybrid electric\", \"electric\", \"propane\"],\n",
    "\n",
    "}\n",
    "\n",
    "boom = pd.DataFrame(boom)\n",
    "\n",
    "print(boom)"
   ]
  },
  {
   "cell_type": "code",
   "execution_count": 360,
   "id": "28ed2994",
   "metadata": {},
   "outputs": [
    {
     "name": "stdout",
     "output_type": "stream",
     "text": [
      "   year      fuel\n",
      "2  2011  electric\n"
     ]
    }
   ],
   "source": [
    "is_electric = boom['fuel'] == 'electric'\n",
    "#All rows under fuel that has electric in it \n",
    "\n",
    "year_gt2010 = boom['year'] > 2010\n",
    "#rows with years above 2010\n",
    "\n",
    "combined_using_and = is_electric & year_gt2010\n",
    "\n",
    "print(boom[combined_using_and])"
   ]
  },
  {
   "cell_type": "code",
   "execution_count": 361,
   "id": "1d3b3521",
   "metadata": {},
   "outputs": [
    {
     "name": "stdout",
     "output_type": "stream",
     "text": [
      "True\n",
      "False\n"
     ]
    }
   ],
   "source": [
    "#BOOLEAN OPERATIONS USING \"OR\"\n",
    "#if one is True all is True \n",
    "#If all is False all is False\n",
    "#Atleast one must be True to get True\n",
    "#Symbol for OR is | \n",
    "\n",
    "prove3= ('electric' == 'electric') or ('biodiesel' == 'hybrid electric')\n",
    "print(prove3)\n",
    "\n",
    "prove4 = ('electric' == 'electricity') or ('biodiesel' == 'hybrid electric')\n",
    "print(prove4)"
   ]
  },
  {
   "cell_type": "code",
   "execution_count": 362,
   "id": "2863ec06",
   "metadata": {},
   "outputs": [
    {
     "name": "stdout",
     "output_type": "stream",
     "text": [
      "0     True\n",
      "1     True\n",
      "2     True\n",
      "3    False\n",
      "Name: fuel, dtype: bool\n",
      "0    True\n",
      "1    True\n",
      "2    True\n",
      "3    True\n",
      "Name: fuel, dtype: bool\n"
     ]
    }
   ],
   "source": [
    "the_electrics= boom['fuel'] == 'electric'\n",
    "the_hybrids= boom['fuel'] == 'hybrid electric'\n",
    "combined2 = the_electrics | the_hybrids\n",
    "#Looking for the one that doesn't have electric and hybrid electric\n",
    "\n",
    "#you can use it on more than 2 \n",
    "the_electrics= boom['fuel'] == 'electric'\n",
    "the_hybrids= boom['fuel'] == 'hybrid electric'\n",
    "the_propanes= boom['fuel'] == 'propane'\n",
    "combined3 = the_electrics | the_hybrids | the_propanes\n",
    "\n",
    "\n",
    "print(combined2)\n",
    "\n",
    "print(combined3)"
   ]
  },
  {
   "cell_type": "code",
   "execution_count": 363,
   "id": "29394d90",
   "metadata": {},
   "outputs": [
    {
     "name": "stdout",
     "output_type": "stream",
     "text": [
      "0     True\n",
      "1     True\n",
      "2     True\n",
      "3    False\n",
      "Name: fuel, dtype: bool\n"
     ]
    }
   ],
   "source": [
    "#INVERTING BOOLEAN WITH NOT\n",
    "#Exempting a category or entire column if we want \n",
    "# NOT sign \"~\"\n",
    "\n",
    "#Using previous example \n",
    "\n",
    "#Runs all except propane cos we used NOT propane\n",
    "\n",
    "the_electrics= boom['fuel'] == 'electric'\n",
    "the_hybrids= boom['fuel'] == 'hybrid electric'\n",
    "the_propanes= boom['fuel'] == 'propane'\n",
    "combined4 =  ~ the_propanes\n",
    "\n",
    "print(combined4)\n",
    "\n"
   ]
  },
  {
   "cell_type": "code",
   "execution_count": 364,
   "id": "e5e219f5",
   "metadata": {},
   "outputs": [
    {
     "name": "stdout",
     "output_type": "stream",
     "text": [
      "   year             fuel\n",
      "0  2009         electric\n",
      "1  2010  hybrid electric\n",
      "2  2011         electric\n",
      "3  2012          propane\n"
     ]
    }
   ],
   "source": [
    "#Sorting rows and columns \n",
    "#Sorting boom dataframe ascending using the years\n",
    "boom_sort= boom.sort_values( by='year' , ascending = True)\n",
    "\n",
    "print(boom_sort)"
   ]
  },
  {
   "cell_type": "code",
   "execution_count": 365,
   "id": "97393553",
   "metadata": {},
   "outputs": [
    {
     "name": "stdout",
     "output_type": "stream",
     "text": [
      "<class 'pandas.core.frame.DataFrame'>\n",
      "RangeIndex: 4 entries, 0 to 3\n",
      "Data columns (total 4 columns):\n",
      " #   Column        Non-Null Count  Dtype \n",
      "---  ------        --------------  ----- \n",
      " 0   id            4 non-null      int64 \n",
      " 1   model         4 non-null      object\n",
      " 2   year          4 non-null      int64 \n",
      " 3   transmission  4 non-null      object\n",
      "dtypes: int64(2), object(2)\n",
      "memory usage: 260.0+ bytes\n",
      "None\n"
     ]
    }
   ],
   "source": [
    "#CLEANING AND TRANSFORMING COLUMNS\n",
    "#COLUMN INFORMATION [.info()]\n",
    "\n",
    "#Shows info on the particular dataframe\n",
    "\n",
    "print(vehicles.info())"
   ]
  },
  {
   "cell_type": "code",
   "execution_count": 366,
   "id": "d79de4da",
   "metadata": {},
   "outputs": [
    {
     "name": "stdout",
     "output_type": "stream",
     "text": [
      "     id                          model  year trans\n",
      "0  1288  amg e53 4matic+ (convertible)  2022  auto\n",
      "1   689                  avalanche ffv  2010  auto\n",
      "2   950                         impala  2010  auto\n",
      "3   250                   yukon xl ffv  2004  auto\n"
     ]
    }
   ],
   "source": [
    "#RENAMING COLUMNS \n",
    "\n",
    "# We use syntax df= df.rename(mapper = column_mapper, axis=1) \n",
    "# Column mapper - is a dictionary that maps the old column names to the new column names \n",
    "# Axis - is a command for editing columns while axis=0 is for rows \n",
    "\n",
    "#EXAMPLE using vehicles \n",
    "\n",
    "\n",
    "\n",
    "#Changing transmission to trans \n",
    "\n",
    "column_mapper = {'transmission' : 'trans'}\n",
    "vehicles = vehicles.rename(\n",
    "    mapper=column_mapper, axis=1 \n",
    ")\n",
    "\n",
    "print(vehicles)\n",
    "\n",
    "#transmission changed to trans \n",
    "#RENAMING USES \"MAPPER\""
   ]
  },
  {
   "cell_type": "code",
   "execution_count": 367,
   "id": "131c51a2",
   "metadata": {},
   "outputs": [
    {
     "name": "stdout",
     "output_type": "stream",
     "text": [
      "     id  year trans\n",
      "0  1288  2022  auto\n",
      "1   689  2010  auto\n",
      "2   950  2010  auto\n",
      "3   250  2004  auto\n"
     ]
    }
   ],
   "source": [
    "#REMOVING COLUMNS \n",
    "\n",
    "# We use .drop() method to remove a column in a dataframe \n",
    "# EXAMPLES using vehicles dataframe \n",
    "\n",
    "drop_columns = ['model']\n",
    "\n",
    "vehicles = vehicles.drop(\n",
    "    labels= drop_columns, axis=1\n",
    ")\n",
    "\n",
    "print(vehicles)\n",
    "\n",
    "# Model column was removed \n",
    "\n",
    "\n",
    "# REMOVING USES \"LABELS\""
   ]
  },
  {
   "cell_type": "code",
   "execution_count": 368,
   "id": "4667bfcb",
   "metadata": {},
   "outputs": [
    {
     "name": "stdout",
     "output_type": "stream",
     "text": [
      "179\n"
     ]
    }
   ],
   "source": [
    "#CALCULATION IN PYTHON \n",
    "\n",
    "mizzy_calc = 240 - 61\n",
    "\n",
    "print(mizzy_calc)"
   ]
  },
  {
   "cell_type": "code",
   "execution_count": 369,
   "id": "7e439153",
   "metadata": {},
   "outputs": [
    {
     "name": "stdout",
     "output_type": "stream",
     "text": [
      "40.347\n"
     ]
    }
   ],
   "source": [
    "#ROUNDING UP NUMBERS \n",
    " \n",
    "mizzy_round = round(40.34678 , 3)\n",
    "\n",
    "print(mizzy_round)"
   ]
  },
  {
   "cell_type": "code",
   "execution_count": 370,
   "id": "367865b6",
   "metadata": {},
   "outputs": [
    {
     "name": "stdout",
     "output_type": "stream",
     "text": [
      "     id      year  number\n",
      "0  1288  2022.678    1999\n",
      "1   689  2010.235    1929\n",
      "2   950  2010.333    4209\n",
      "3   250  2004.127    2303\n"
     ]
    }
   ],
   "source": [
    "#COLUMN CALCULATIONS\n",
    "\n",
    "calculate = {\n",
    "    \"id\": [1288, 689, 950, 250],\n",
    "    \"year\" : [2022.678, 2010.235, 2010.333, 2004.127],\n",
    "    \"number\" : [1999 , 1929 , 4209 , 2303]\n",
    "\n",
    "}\n",
    "\n",
    "calculate = pd.DataFrame(calculate)\n",
    "\n",
    "print(calculate)"
   ]
  },
  {
   "cell_type": "code",
   "execution_count": 371,
   "id": "604e0aa9",
   "metadata": {},
   "outputs": [
    {
     "name": "stdout",
     "output_type": "stream",
     "text": [
      "0    644.0\n",
      "1    344.5\n",
      "2    475.0\n",
      "3    125.0\n",
      "Name: id, dtype: float64\n"
     ]
    }
   ],
   "source": [
    "print(calculate['id']/2)\n",
    "\n",
    "#Divides id column by 2\n",
    "\n"
   ]
  },
  {
   "cell_type": "code",
   "execution_count": 372,
   "id": "dd586f2c",
   "metadata": {},
   "outputs": [
    {
     "name": "stdout",
     "output_type": "stream",
     "text": [
      "         id      year  number\n",
      "0    23.678  2022.678    1999\n",
      "1    81.235  2010.235    1929\n",
      "2 -2198.667  2010.333    4209\n",
      "3  -298.873  2004.127    2303\n"
     ]
    }
   ],
   "source": [
    "calculate['id'] = calculate['year'] - calculate['number']\n",
    "\n",
    "print(calculate)\n",
    "\n",
    "#id is now the year - number "
   ]
  },
  {
   "cell_type": "code",
   "execution_count": 373,
   "id": "a16f580e",
   "metadata": {},
   "outputs": [
    {
     "name": "stdout",
     "output_type": "stream",
     "text": [
      "0    2022.68\n",
      "1    2010.24\n",
      "2    2010.33\n",
      "3    2004.13\n",
      "Name: year, dtype: float64\n"
     ]
    }
   ],
   "source": [
    "# Missing values \n",
    "# if no value is added it would not show anything no matter what operator is added \n",
    "\n",
    "#ROUNDING A COLUMN \n",
    "\n",
    "print(calculate['year'].round(decimals=2))\n",
    "\n",
    "\n",
    "\n",
    "\n",
    "\n"
   ]
  },
  {
   "cell_type": "code",
   "execution_count": 374,
   "id": "e3d1eab9",
   "metadata": {},
   "outputs": [
    {
     "name": "stdout",
     "output_type": "stream",
     "text": [
      "        Location\n",
      "0  Gatlinburg,TN\n",
      "1  Springdale,UT\n",
      "2     Jackson,WY\n",
      "3    Esespark,CO\n"
     ]
    }
   ],
   "source": [
    "#SPLITTING COLUMNS \n",
    "#creating a new dataframe \"Locations\" \n",
    "\n",
    "Locations = {\n",
    "    \"Location\" : [\"Gatlinburg,TN\", \"Springdale,UT\", \"Jackson,WY\", \"Esespark,CO\"],\n",
    "   \n",
    "\n",
    "}\n",
    "\n",
    "Locations = pd.DataFrame(Locations)\n",
    "\n",
    "print(Locations)\n",
    "\n"
   ]
  },
  {
   "cell_type": "code",
   "execution_count": null,
   "id": "6aa2bb5a",
   "metadata": {},
   "outputs": [
    {
     "name": "stdout",
     "output_type": "stream",
     "text": [
      "         city state\n",
      "0  Gatlinburg    TN\n",
      "1  Springdale    UT\n",
      "2     Jackson    WY\n",
      "3    Esespark    CO\n"
     ]
    }
   ],
   "source": [
    "#To seperate state from city ..whereby states are the abbrevations and city are before the comma \n",
    "#DELIMITERS - seperate them from each other in this case ','\n",
    " \n",
    "\n",
    "Locations_split = Locations['Location'].str.split(\n",
    "    \n",
    "    pat=',',\n",
    "      expand=True)\n",
    "\n",
    "#We've split them but to rename the split columns we use rename \n",
    "#Splits them into two columns 0 and 1 then rename \n",
    "\n",
    "Locations_split = Locations_split.rename(columns={0: 'city', 1: 'state'})\n",
    "\n",
    "\n",
    "print(Locations_split)\n",
    "\n",
    "\n",
    "\n",
    "\n",
    "\n",
    "# pat is  the delimiter , expand is to seperate , str is to tell you we are dealing with a column with strings \n"
   ]
  },
  {
   "cell_type": "code",
   "execution_count": null,
   "id": "e8ac80af",
   "metadata": {},
   "outputs": [],
   "source": []
  }
 ],
 "metadata": {
  "kernelspec": {
   "display_name": "Python 3",
   "language": "python",
   "name": "python3"
  },
  "language_info": {
   "codemirror_mode": {
    "name": "ipython",
    "version": 3
   },
   "file_extension": ".py",
   "mimetype": "text/x-python",
   "name": "python",
   "nbconvert_exporter": "python",
   "pygments_lexer": "ipython3",
   "version": "3.13.7"
  }
 },
 "nbformat": 4,
 "nbformat_minor": 5
}
