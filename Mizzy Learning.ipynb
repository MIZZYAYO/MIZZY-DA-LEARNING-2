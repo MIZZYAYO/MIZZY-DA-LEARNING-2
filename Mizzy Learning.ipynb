{
 "cells": [
  {
   "cell_type": "code",
   "execution_count": 84,
   "id": "d4e9727e",
   "metadata": {},
   "outputs": [
    {
     "name": "stdout",
     "output_type": "stream",
     "text": [
      "[0, 1, 2, 3, 4]\n"
     ]
    }
   ],
   "source": [
    "#SELECTING RANGES OF ROWS \n",
    "\n",
    "\n",
    "#SLICE WITH .iloc\n",
    "\n",
    "my_list = [0, 1, 2, 3, 4]\n",
    "print(my_list[0:5])\n",
    "\n",
    "#This is used to select a range of numbers"
   ]
  },
  {
   "cell_type": "code",
   "execution_count": 85,
   "id": "fa2a90bc",
   "metadata": {},
   "outputs": [
    {
     "name": "stdout",
     "output_type": "stream",
     "text": [
      "     id                          model  year transmission\n",
      "0  1288  amg e53 4matic+ (convertible)  2022         auto\n",
      "1   689                  avalanche ffv  2007         auto\n",
      "2   950                         impala  2010         auto\n",
      "3   250                   yukon xl ffv  2004         auto\n"
     ]
    }
   ],
   "source": [
    "import pandas as pd\n",
    "\n",
    "\n",
    "\n",
    "vehicles = {\n",
    "    \"id\": [\"1288\", \"689\", \"950\", \"250\"],\n",
    "    \"model\": [\"amg e53 4matic+ (convertible)\", \"avalanche ffv\", \"impala\", \"yukon xl ffv\"],\n",
    "    \"year\" : [\"2022\", \"2007\", \"2010\", \"2004\"],\n",
    "    \"transmission\" : [\"auto\", \"auto\", \"auto\", \"auto\"],\n",
    "\n",
    "}\n",
    "\n",
    "vehicles = pd.DataFrame(vehicles)\n",
    "\n",
    "print(vehicles)\n",
    "\n"
   ]
  },
  {
   "cell_type": "code",
   "execution_count": null,
   "id": "bc817fa5",
   "metadata": {},
   "outputs": [
    {
     "data": {
      "text/html": [
       "<div>\n",
       "<style scoped>\n",
       "    .dataframe tbody tr th:only-of-type {\n",
       "        vertical-align: middle;\n",
       "    }\n",
       "\n",
       "    .dataframe tbody tr th {\n",
       "        vertical-align: top;\n",
       "    }\n",
       "\n",
       "    .dataframe thead th {\n",
       "        text-align: right;\n",
       "    }\n",
       "</style>\n",
       "<table border=\"1\" class=\"dataframe\">\n",
       "  <thead>\n",
       "    <tr style=\"text-align: right;\">\n",
       "      <th></th>\n",
       "      <th>model</th>\n",
       "      <th>year</th>\n",
       "      <th>transmission</th>\n",
       "    </tr>\n",
       "  </thead>\n",
       "  <tbody>\n",
       "    <tr>\n",
       "      <th>0</th>\n",
       "      <td>amg e53 4matic+ (convertible)</td>\n",
       "      <td>2022</td>\n",
       "      <td>auto</td>\n",
       "    </tr>\n",
       "    <tr>\n",
       "      <th>1</th>\n",
       "      <td>avalanche ffv</td>\n",
       "      <td>2007</td>\n",
       "      <td>auto</td>\n",
       "    </tr>\n",
       "    <tr>\n",
       "      <th>2</th>\n",
       "      <td>impala</td>\n",
       "      <td>2010</td>\n",
       "      <td>auto</td>\n",
       "    </tr>\n",
       "  </tbody>\n",
       "</table>\n",
       "</div>"
      ],
      "text/plain": [
       "                           model  year transmission\n",
       "0  amg e53 4matic+ (convertible)  2022         auto\n",
       "1                  avalanche ffv  2007         auto\n",
       "2                         impala  2010         auto"
      ]
     },
     "execution_count": 86,
     "metadata": {},
     "output_type": "execute_result"
    }
   ],
   "source": [
    "\n",
    "#Using the dataframe \"vehicles\" and iloc to pick a part in the main dat set .....selecting the first three rows and the model ,year and transmission columns \n",
    "\n",
    "#It is [0:3] because we are selecting the first 3 rows ....and the 3 is after the index 2 (x:y+1 where x and y are the original indexes)\n",
    "\n",
    "vehicles.iloc[0:3,1:4]"
   ]
  },
  {
   "cell_type": "code",
   "execution_count": null,
   "id": "d5713b35",
   "metadata": {},
   "outputs": [
    {
     "data": {
      "text/html": [
       "<div>\n",
       "<style scoped>\n",
       "    .dataframe tbody tr th:only-of-type {\n",
       "        vertical-align: middle;\n",
       "    }\n",
       "\n",
       "    .dataframe tbody tr th {\n",
       "        vertical-align: top;\n",
       "    }\n",
       "\n",
       "    .dataframe thead th {\n",
       "        text-align: right;\n",
       "    }\n",
       "</style>\n",
       "<table border=\"1\" class=\"dataframe\">\n",
       "  <thead>\n",
       "    <tr style=\"text-align: right;\">\n",
       "      <th></th>\n",
       "      <th>model</th>\n",
       "      <th>year</th>\n",
       "      <th>transmission</th>\n",
       "    </tr>\n",
       "  </thead>\n",
       "  <tbody>\n",
       "    <tr>\n",
       "      <th>0</th>\n",
       "      <td>amg e53 4matic+ (convertible)</td>\n",
       "      <td>2022</td>\n",
       "      <td>auto</td>\n",
       "    </tr>\n",
       "    <tr>\n",
       "      <th>1</th>\n",
       "      <td>avalanche ffv</td>\n",
       "      <td>2007</td>\n",
       "      <td>auto</td>\n",
       "    </tr>\n",
       "    <tr>\n",
       "      <th>2</th>\n",
       "      <td>impala</td>\n",
       "      <td>2010</td>\n",
       "      <td>auto</td>\n",
       "    </tr>\n",
       "  </tbody>\n",
       "</table>\n",
       "</div>"
      ],
      "text/plain": [
       "                           model  year transmission\n",
       "0  amg e53 4matic+ (convertible)  2022         auto\n",
       "1                  avalanche ffv  2007         auto\n",
       "2                         impala  2010         auto"
      ]
     },
     "execution_count": 88,
     "metadata": {},
     "output_type": "execute_result"
    }
   ],
   "source": [
    "#SLICES WITH .loc\n",
    "\n",
    "#Using the same question... first 3 rows and model , year and transmission \n",
    "# .loc uses exactly the index for the rows (x:y) and the names of the columns for the columns \n",
    "\n",
    "vehicles.loc[0:2,\"model\":\"transmission\"] \n"
   ]
  },
  {
   "cell_type": "code",
   "execution_count": null,
   "id": "8cc832f6",
   "metadata": {},
   "outputs": [
    {
     "data": {
      "text/html": [
       "<div>\n",
       "<style scoped>\n",
       "    .dataframe tbody tr th:only-of-type {\n",
       "        vertical-align: middle;\n",
       "    }\n",
       "\n",
       "    .dataframe tbody tr th {\n",
       "        vertical-align: top;\n",
       "    }\n",
       "\n",
       "    .dataframe thead th {\n",
       "        text-align: right;\n",
       "    }\n",
       "</style>\n",
       "<table border=\"1\" class=\"dataframe\">\n",
       "  <thead>\n",
       "    <tr style=\"text-align: right;\">\n",
       "      <th></th>\n",
       "      <th>id</th>\n",
       "      <th>model</th>\n",
       "      <th>year</th>\n",
       "      <th>transmission</th>\n",
       "    </tr>\n",
       "  </thead>\n",
       "  <tbody>\n",
       "    <tr>\n",
       "      <th>0</th>\n",
       "      <td>1288</td>\n",
       "      <td>amg e53 4matic+ (convertible)</td>\n",
       "      <td>2022</td>\n",
       "      <td>auto</td>\n",
       "    </tr>\n",
       "    <tr>\n",
       "      <th>1</th>\n",
       "      <td>689</td>\n",
       "      <td>avalanche ffv</td>\n",
       "      <td>2007</td>\n",
       "      <td>auto</td>\n",
       "    </tr>\n",
       "    <tr>\n",
       "      <th>2</th>\n",
       "      <td>950</td>\n",
       "      <td>impala</td>\n",
       "      <td>2010</td>\n",
       "      <td>auto</td>\n",
       "    </tr>\n",
       "  </tbody>\n",
       "</table>\n",
       "</div>"
      ],
      "text/plain": [
       "     id                          model  year transmission\n",
       "0  1288  amg e53 4matic+ (convertible)  2022         auto\n",
       "1   689                  avalanche ffv  2007         auto\n",
       "2   950                         impala  2010         auto"
      ]
     },
     "execution_count": 89,
     "metadata": {},
     "output_type": "execute_result"
    }
   ],
   "source": [
    "#OPEN ENDED SLICES\n",
    "# If you don't specify the starting point of a slice it would automatically start from the beginning same and end point stopping at the ending \n",
    "#if you don't specify any ...it would automatically include all rows and columns from the begining to the end \n",
    "\n",
    "\n",
    "vehicles.iloc[:3,:]\n"
   ]
  }
 ],
 "metadata": {
  "kernelspec": {
   "display_name": "Python 3",
   "language": "python",
   "name": "python3"
  },
  "language_info": {
   "codemirror_mode": {
    "name": "ipython",
    "version": 3
   },
   "file_extension": ".py",
   "mimetype": "text/x-python",
   "name": "python",
   "nbconvert_exporter": "python",
   "pygments_lexer": "ipython3",
   "version": "3.13.7"
  }
 },
 "nbformat": 4,
 "nbformat_minor": 5
}
